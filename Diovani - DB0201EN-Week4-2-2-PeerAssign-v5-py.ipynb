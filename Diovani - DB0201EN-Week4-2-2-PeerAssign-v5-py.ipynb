{
 "cells": [
  {
   "cell_type": "code",
   "execution_count": 1,
   "outputs": [],
   "source": [
    "import sqlalchemy\n",
    "from sqlalchemy import create_engine\n",
    "import pandas as pd\n",
    "import ibm_db\n",
    "import ibm_db_sa\n",
    "import ibm_db_dbi\n",
    "import sys"
   ],
   "metadata": {
    "collapsed": false,
    "pycharm": {
     "name": "#%%\n"
    }
   }
  },
  {
   "cell_type": "markdown",
   "source": [
    "Store the datasets in database tables"
   ],
   "metadata": {
    "collapsed": false,
    "pycharm": {
     "name": "#%% md\n"
    }
   }
  },
  {
   "cell_type": "code",
   "execution_count": 2,
   "outputs": [],
   "source": [
    "%reload_ext sql"
   ],
   "metadata": {
    "collapsed": false,
    "pycharm": {
     "name": "#%%\n"
    }
   }
  },
  {
   "cell_type": "markdown",
   "source": [
    "Connect to the database"
   ],
   "metadata": {
    "collapsed": false,
    "pycharm": {
     "name": "#%% md\n"
    }
   }
  },
  {
   "cell_type": "code",
   "execution_count": 3,
   "outputs": [],
   "source": [
    "%sql ibm_db_sa://bcz17630:zxlfB23ObdxZvcnw@125f9f61-9715-46f9-9399-c8177b21803b.c1ogj3sd0tgtu0lqde00.databases.appdomain.cloud:30426/bludb?security=SSL"
   ],
   "metadata": {
    "collapsed": false,
    "pycharm": {
     "name": "#%%\n"
    }
   }
  },
  {
   "cell_type": "code",
   "execution_count": 4,
   "outputs": [
    {
     "name": "stdout",
     "output_type": "stream",
     "text": [
      " * ibm_db_sa://bcz17630:***@125f9f61-9715-46f9-9399-c8177b21803b.c1ogj3sd0tgtu0lqde00.databases.appdomain.cloud:30426/bludb\n",
      "Done.\n"
     ]
    }
   ],
   "source": [
    "df_crime = %sql select COLNAME, TYPENAME, LENGTH from SYSCAT.COLUMNS where TABNAME = 'CHICAGO_CRIME_DATA'"
   ],
   "metadata": {
    "collapsed": false,
    "pycharm": {
     "name": "#%%\n"
    }
   }
  },
  {
   "cell_type": "code",
   "execution_count": 5,
   "outputs": [
    {
     "data": {
      "text/plain": "                  colname   typename  length\n0                      ID    INTEGER       4\n1             CASE_NUMBER    VARCHAR       8\n2                    DATE  TIMESTAMP      10\n3                   BLOCK    VARCHAR      35\n4                    IUCR    VARCHAR       4\n5            PRIMARY_TYPE    VARCHAR      15\n6             DESCRIPTION    VARCHAR      46\n7    LOCATION_DESCRIPTION    VARCHAR      33\n8                  ARREST    VARCHAR       5\n9                DOMESTIC    VARCHAR       5\n10                   BEAT   SMALLINT       2\n11               DISTRICT   SMALLINT       2\n12                   WARD    VARCHAR       3\n13  COMMUNITY_AREA_NUMBER    VARCHAR       3\n14                FBICODE    VARCHAR       3\n15           X_COORDINATE    INTEGER       4\n16           Y_COORDINATE    INTEGER       4\n17                   YEAR   SMALLINT       2\n18              UPDATEDON  TIMESTAMP      10\n19               LATITUDE     BIGINT       8\n20              LONGITUDE     BIGINT       8",
      "text/html": "<div>\n<style scoped>\n    .dataframe tbody tr th:only-of-type {\n        vertical-align: middle;\n    }\n\n    .dataframe tbody tr th {\n        vertical-align: top;\n    }\n\n    .dataframe thead th {\n        text-align: right;\n    }\n</style>\n<table border=\"1\" class=\"dataframe\">\n  <thead>\n    <tr style=\"text-align: right;\">\n      <th></th>\n      <th>colname</th>\n      <th>typename</th>\n      <th>length</th>\n    </tr>\n  </thead>\n  <tbody>\n    <tr>\n      <th>0</th>\n      <td>ID</td>\n      <td>INTEGER</td>\n      <td>4</td>\n    </tr>\n    <tr>\n      <th>1</th>\n      <td>CASE_NUMBER</td>\n      <td>VARCHAR</td>\n      <td>8</td>\n    </tr>\n    <tr>\n      <th>2</th>\n      <td>DATE</td>\n      <td>TIMESTAMP</td>\n      <td>10</td>\n    </tr>\n    <tr>\n      <th>3</th>\n      <td>BLOCK</td>\n      <td>VARCHAR</td>\n      <td>35</td>\n    </tr>\n    <tr>\n      <th>4</th>\n      <td>IUCR</td>\n      <td>VARCHAR</td>\n      <td>4</td>\n    </tr>\n    <tr>\n      <th>5</th>\n      <td>PRIMARY_TYPE</td>\n      <td>VARCHAR</td>\n      <td>15</td>\n    </tr>\n    <tr>\n      <th>6</th>\n      <td>DESCRIPTION</td>\n      <td>VARCHAR</td>\n      <td>46</td>\n    </tr>\n    <tr>\n      <th>7</th>\n      <td>LOCATION_DESCRIPTION</td>\n      <td>VARCHAR</td>\n      <td>33</td>\n    </tr>\n    <tr>\n      <th>8</th>\n      <td>ARREST</td>\n      <td>VARCHAR</td>\n      <td>5</td>\n    </tr>\n    <tr>\n      <th>9</th>\n      <td>DOMESTIC</td>\n      <td>VARCHAR</td>\n      <td>5</td>\n    </tr>\n    <tr>\n      <th>10</th>\n      <td>BEAT</td>\n      <td>SMALLINT</td>\n      <td>2</td>\n    </tr>\n    <tr>\n      <th>11</th>\n      <td>DISTRICT</td>\n      <td>SMALLINT</td>\n      <td>2</td>\n    </tr>\n    <tr>\n      <th>12</th>\n      <td>WARD</td>\n      <td>VARCHAR</td>\n      <td>3</td>\n    </tr>\n    <tr>\n      <th>13</th>\n      <td>COMMUNITY_AREA_NUMBER</td>\n      <td>VARCHAR</td>\n      <td>3</td>\n    </tr>\n    <tr>\n      <th>14</th>\n      <td>FBICODE</td>\n      <td>VARCHAR</td>\n      <td>3</td>\n    </tr>\n    <tr>\n      <th>15</th>\n      <td>X_COORDINATE</td>\n      <td>INTEGER</td>\n      <td>4</td>\n    </tr>\n    <tr>\n      <th>16</th>\n      <td>Y_COORDINATE</td>\n      <td>INTEGER</td>\n      <td>4</td>\n    </tr>\n    <tr>\n      <th>17</th>\n      <td>YEAR</td>\n      <td>SMALLINT</td>\n      <td>2</td>\n    </tr>\n    <tr>\n      <th>18</th>\n      <td>UPDATEDON</td>\n      <td>TIMESTAMP</td>\n      <td>10</td>\n    </tr>\n    <tr>\n      <th>19</th>\n      <td>LATITUDE</td>\n      <td>BIGINT</td>\n      <td>8</td>\n    </tr>\n    <tr>\n      <th>20</th>\n      <td>LONGITUDE</td>\n      <td>BIGINT</td>\n      <td>8</td>\n    </tr>\n  </tbody>\n</table>\n</div>"
     },
     "execution_count": 5,
     "metadata": {},
     "output_type": "execute_result"
    }
   ],
   "source": [
    "table_1 = df_crime.DataFrame()\n",
    "table_1"
   ],
   "metadata": {
    "collapsed": false,
    "pycharm": {
     "name": "#%%\n"
    }
   }
  },
  {
   "cell_type": "markdown",
   "source": [
    "Problem 1\n",
    "Find the total number of crimes recorded in the CRIME table"
   ],
   "metadata": {
    "collapsed": false,
    "pycharm": {
     "name": "#%% md\n"
    }
   }
  },
  {
   "cell_type": "code",
   "execution_count": 6,
   "outputs": [
    {
     "name": "stdout",
     "output_type": "stream",
     "text": [
      " * ibm_db_sa://bcz17630:***@125f9f61-9715-46f9-9399-c8177b21803b.c1ogj3sd0tgtu0lqde00.databases.appdomain.cloud:30426/bludb\n",
      "Done.\n"
     ]
    }
   ],
   "source": [
    "primary_type = %sql SELECT COUNT (PRIMARY_TYPE) FROM CHICAGO_CRIME_DATA;"
   ],
   "metadata": {
    "collapsed": false,
    "pycharm": {
     "name": "#%%\n"
    }
   }
  },
  {
   "cell_type": "code",
   "execution_count": 7,
   "outputs": [
    {
     "data": {
      "text/plain": "     1\n0  533",
      "text/html": "<div>\n<style scoped>\n    .dataframe tbody tr th:only-of-type {\n        vertical-align: middle;\n    }\n\n    .dataframe tbody tr th {\n        vertical-align: top;\n    }\n\n    .dataframe thead th {\n        text-align: right;\n    }\n</style>\n<table border=\"1\" class=\"dataframe\">\n  <thead>\n    <tr style=\"text-align: right;\">\n      <th></th>\n      <th>1</th>\n    </tr>\n  </thead>\n  <tbody>\n    <tr>\n      <th>0</th>\n      <td>533</td>\n    </tr>\n  </tbody>\n</table>\n</div>"
     },
     "execution_count": 7,
     "metadata": {},
     "output_type": "execute_result"
    }
   ],
   "source": [
    "table_2 = primary_type.DataFrame()\n",
    "table_2"
   ],
   "metadata": {
    "collapsed": false,
    "pycharm": {
     "name": "#%%\n"
    }
   }
  },
  {
   "cell_type": "code",
   "execution_count": 56,
   "outputs": [
    {
     "name": "stdout",
     "output_type": "stream",
     "text": [
      " * ibm_db_sa://bcz17630:***@125f9f61-9715-46f9-9399-c8177b21803b.c1ogj3sd0tgtu0lqde00.databases.appdomain.cloud:30426/bludb\n",
      "Done.\n"
     ]
    }
   ],
   "source": [
    "chicago_line_10 = %sql SELECT * FROM CHICAGO_CRIME_DATA LIMIT 10;"
   ],
   "metadata": {
    "collapsed": false,
    "pycharm": {
     "name": "#%%\n"
    }
   }
  },
  {
   "cell_type": "code",
   "execution_count": 57,
   "outputs": [
    {
     "data": {
      "text/plain": "         id case_number                DATE                     block iucr  \\\n0   3512276    HK587712 2004-08-28 05:50:56        047XX S KEDZIE AVE  890   \n1   3406613    HK456306 2004-06-26 12:40:00  009XX N CENTRAL PARK AVE  820   \n2   8002131    HT233595 2011-04-04 05:45:00        043XX S WABASH AVE  820   \n3   7903289    HT133522 2010-12-30 04:30:00      083XX S KINGSTON AVE  840   \n4  10402076    HZ138551 2016-02-02 19:30:00           033XX W 66TH ST  820   \n5   7732712    HS540106 2010-09-29 07:59:00       006XX W CHICAGO AVE  810   \n6  10769475    HZ534771 2016-11-30 01:15:00        050XX N KEDZIE AVE  810   \n7   4494340    HL793243 2005-12-16 04:45:00       005XX E PERSHING RD  860   \n8   3778925    HL149610 2005-01-28 05:00:00     100XX S WASHTENAW AVE  810   \n9   3324217    HK361551 2004-05-13 02:15:00       033XX W BELMONT AVE  820   \n\n  primary_type                    description          location_description  \\\n0        THEFT                  FROM BUILDING            SMALL RETAIL STORE   \n1        THEFT                 $500 AND UNDER                         OTHER   \n2        THEFT                 $500 AND UNDER  NURSING HOME RETIREMENT HOME   \n3        THEFT  FINANCIAL ID THEFT  OVER $300                     RESIDENCE   \n4        THEFT                 $500 AND UNDER                         ALLEY   \n5        THEFT                      OVER $500    PARKING LOT GARAGENONRESID   \n6        THEFT                      OVER $500                        STREET   \n7        THEFT                   RETAIL THEFT            GROCERY FOOD STORE   \n8        THEFT                      OVER $500                        STREET   \n9        THEFT                 $500 AND UNDER            SMALL RETAIL STORE   \n\n  arrest domestic  ...  district  ward community_area_number fbicode  \\\n0  FALSE    FALSE  ...         9    14                    58       6   \n1  FALSE    FALSE  ...        11    27                    23       6   \n2  FALSE    FALSE  ...         2     3                    38       6   \n3  FALSE    FALSE  ...         4     7                    46       6   \n4  FALSE    FALSE  ...         8    15                    66       6   \n5  FALSE    FALSE  ...        12    27                    24       6   \n6  FALSE    FALSE  ...        17    33                    14       6   \n7   TRUE    FALSE  ...         2     3                    38       6   \n8  FALSE    FALSE  ...        22    19                    72       6   \n9  FALSE    FALSE  ...        17    35                    21       6   \n\n  x_coordinate  y_coordinate  YEAR           updatedon latitude longitude  \n0      1155838       1873050  2004 2018-02-10 15:50:01     None      None  \n1      1152206       1906127  2004 2018-02-28 03:56:25     None      None  \n2      1177436       1876313  2011 2018-02-10 15:50:01     None      None  \n3      1194622       1850125  2010 2018-02-10 15:50:01     None      None  \n4      1155240       1860661  2016 2018-02-10 15:50:01     None      None  \n5      1171668       1905607  2010 2018-02-10 15:50:01     None      None  \n6      1154133       1933314  2016 2018-02-10 15:50:01     None      None  \n7      1180448       1879234  2005 2018-02-28 03:56:25     None      None  \n8      1160129       1838040  2005 2018-02-28 03:56:25     None      None  \n9      1153590       1921084  2004 2018-02-28 03:56:25     None      None  \n\n[10 rows x 21 columns]",
      "text/html": "<div>\n<style scoped>\n    .dataframe tbody tr th:only-of-type {\n        vertical-align: middle;\n    }\n\n    .dataframe tbody tr th {\n        vertical-align: top;\n    }\n\n    .dataframe thead th {\n        text-align: right;\n    }\n</style>\n<table border=\"1\" class=\"dataframe\">\n  <thead>\n    <tr style=\"text-align: right;\">\n      <th></th>\n      <th>id</th>\n      <th>case_number</th>\n      <th>DATE</th>\n      <th>block</th>\n      <th>iucr</th>\n      <th>primary_type</th>\n      <th>description</th>\n      <th>location_description</th>\n      <th>arrest</th>\n      <th>domestic</th>\n      <th>...</th>\n      <th>district</th>\n      <th>ward</th>\n      <th>community_area_number</th>\n      <th>fbicode</th>\n      <th>x_coordinate</th>\n      <th>y_coordinate</th>\n      <th>YEAR</th>\n      <th>updatedon</th>\n      <th>latitude</th>\n      <th>longitude</th>\n    </tr>\n  </thead>\n  <tbody>\n    <tr>\n      <th>0</th>\n      <td>3512276</td>\n      <td>HK587712</td>\n      <td>2004-08-28 05:50:56</td>\n      <td>047XX S KEDZIE AVE</td>\n      <td>890</td>\n      <td>THEFT</td>\n      <td>FROM BUILDING</td>\n      <td>SMALL RETAIL STORE</td>\n      <td>FALSE</td>\n      <td>FALSE</td>\n      <td>...</td>\n      <td>9</td>\n      <td>14</td>\n      <td>58</td>\n      <td>6</td>\n      <td>1155838</td>\n      <td>1873050</td>\n      <td>2004</td>\n      <td>2018-02-10 15:50:01</td>\n      <td>None</td>\n      <td>None</td>\n    </tr>\n    <tr>\n      <th>1</th>\n      <td>3406613</td>\n      <td>HK456306</td>\n      <td>2004-06-26 12:40:00</td>\n      <td>009XX N CENTRAL PARK AVE</td>\n      <td>820</td>\n      <td>THEFT</td>\n      <td>$500 AND UNDER</td>\n      <td>OTHER</td>\n      <td>FALSE</td>\n      <td>FALSE</td>\n      <td>...</td>\n      <td>11</td>\n      <td>27</td>\n      <td>23</td>\n      <td>6</td>\n      <td>1152206</td>\n      <td>1906127</td>\n      <td>2004</td>\n      <td>2018-02-28 03:56:25</td>\n      <td>None</td>\n      <td>None</td>\n    </tr>\n    <tr>\n      <th>2</th>\n      <td>8002131</td>\n      <td>HT233595</td>\n      <td>2011-04-04 05:45:00</td>\n      <td>043XX S WABASH AVE</td>\n      <td>820</td>\n      <td>THEFT</td>\n      <td>$500 AND UNDER</td>\n      <td>NURSING HOME RETIREMENT HOME</td>\n      <td>FALSE</td>\n      <td>FALSE</td>\n      <td>...</td>\n      <td>2</td>\n      <td>3</td>\n      <td>38</td>\n      <td>6</td>\n      <td>1177436</td>\n      <td>1876313</td>\n      <td>2011</td>\n      <td>2018-02-10 15:50:01</td>\n      <td>None</td>\n      <td>None</td>\n    </tr>\n    <tr>\n      <th>3</th>\n      <td>7903289</td>\n      <td>HT133522</td>\n      <td>2010-12-30 04:30:00</td>\n      <td>083XX S KINGSTON AVE</td>\n      <td>840</td>\n      <td>THEFT</td>\n      <td>FINANCIAL ID THEFT  OVER $300</td>\n      <td>RESIDENCE</td>\n      <td>FALSE</td>\n      <td>FALSE</td>\n      <td>...</td>\n      <td>4</td>\n      <td>7</td>\n      <td>46</td>\n      <td>6</td>\n      <td>1194622</td>\n      <td>1850125</td>\n      <td>2010</td>\n      <td>2018-02-10 15:50:01</td>\n      <td>None</td>\n      <td>None</td>\n    </tr>\n    <tr>\n      <th>4</th>\n      <td>10402076</td>\n      <td>HZ138551</td>\n      <td>2016-02-02 19:30:00</td>\n      <td>033XX W 66TH ST</td>\n      <td>820</td>\n      <td>THEFT</td>\n      <td>$500 AND UNDER</td>\n      <td>ALLEY</td>\n      <td>FALSE</td>\n      <td>FALSE</td>\n      <td>...</td>\n      <td>8</td>\n      <td>15</td>\n      <td>66</td>\n      <td>6</td>\n      <td>1155240</td>\n      <td>1860661</td>\n      <td>2016</td>\n      <td>2018-02-10 15:50:01</td>\n      <td>None</td>\n      <td>None</td>\n    </tr>\n    <tr>\n      <th>5</th>\n      <td>7732712</td>\n      <td>HS540106</td>\n      <td>2010-09-29 07:59:00</td>\n      <td>006XX W CHICAGO AVE</td>\n      <td>810</td>\n      <td>THEFT</td>\n      <td>OVER $500</td>\n      <td>PARKING LOT GARAGENONRESID</td>\n      <td>FALSE</td>\n      <td>FALSE</td>\n      <td>...</td>\n      <td>12</td>\n      <td>27</td>\n      <td>24</td>\n      <td>6</td>\n      <td>1171668</td>\n      <td>1905607</td>\n      <td>2010</td>\n      <td>2018-02-10 15:50:01</td>\n      <td>None</td>\n      <td>None</td>\n    </tr>\n    <tr>\n      <th>6</th>\n      <td>10769475</td>\n      <td>HZ534771</td>\n      <td>2016-11-30 01:15:00</td>\n      <td>050XX N KEDZIE AVE</td>\n      <td>810</td>\n      <td>THEFT</td>\n      <td>OVER $500</td>\n      <td>STREET</td>\n      <td>FALSE</td>\n      <td>FALSE</td>\n      <td>...</td>\n      <td>17</td>\n      <td>33</td>\n      <td>14</td>\n      <td>6</td>\n      <td>1154133</td>\n      <td>1933314</td>\n      <td>2016</td>\n      <td>2018-02-10 15:50:01</td>\n      <td>None</td>\n      <td>None</td>\n    </tr>\n    <tr>\n      <th>7</th>\n      <td>4494340</td>\n      <td>HL793243</td>\n      <td>2005-12-16 04:45:00</td>\n      <td>005XX E PERSHING RD</td>\n      <td>860</td>\n      <td>THEFT</td>\n      <td>RETAIL THEFT</td>\n      <td>GROCERY FOOD STORE</td>\n      <td>TRUE</td>\n      <td>FALSE</td>\n      <td>...</td>\n      <td>2</td>\n      <td>3</td>\n      <td>38</td>\n      <td>6</td>\n      <td>1180448</td>\n      <td>1879234</td>\n      <td>2005</td>\n      <td>2018-02-28 03:56:25</td>\n      <td>None</td>\n      <td>None</td>\n    </tr>\n    <tr>\n      <th>8</th>\n      <td>3778925</td>\n      <td>HL149610</td>\n      <td>2005-01-28 05:00:00</td>\n      <td>100XX S WASHTENAW AVE</td>\n      <td>810</td>\n      <td>THEFT</td>\n      <td>OVER $500</td>\n      <td>STREET</td>\n      <td>FALSE</td>\n      <td>FALSE</td>\n      <td>...</td>\n      <td>22</td>\n      <td>19</td>\n      <td>72</td>\n      <td>6</td>\n      <td>1160129</td>\n      <td>1838040</td>\n      <td>2005</td>\n      <td>2018-02-28 03:56:25</td>\n      <td>None</td>\n      <td>None</td>\n    </tr>\n    <tr>\n      <th>9</th>\n      <td>3324217</td>\n      <td>HK361551</td>\n      <td>2004-05-13 02:15:00</td>\n      <td>033XX W BELMONT AVE</td>\n      <td>820</td>\n      <td>THEFT</td>\n      <td>$500 AND UNDER</td>\n      <td>SMALL RETAIL STORE</td>\n      <td>FALSE</td>\n      <td>FALSE</td>\n      <td>...</td>\n      <td>17</td>\n      <td>35</td>\n      <td>21</td>\n      <td>6</td>\n      <td>1153590</td>\n      <td>1921084</td>\n      <td>2004</td>\n      <td>2018-02-28 03:56:25</td>\n      <td>None</td>\n      <td>None</td>\n    </tr>\n  </tbody>\n</table>\n<p>10 rows × 21 columns</p>\n</div>"
     },
     "execution_count": 57,
     "metadata": {},
     "output_type": "execute_result"
    }
   ],
   "source": [
    "table_3 = chicago_line_10.DataFrame()\n",
    "table_3"
   ],
   "metadata": {
    "collapsed": false,
    "pycharm": {
     "name": "#%%\n"
    }
   }
  },
  {
   "cell_type": "code",
   "execution_count": 50,
   "outputs": [
    {
     "name": "stdout",
     "output_type": "stream",
     "text": [
      " * ibm_db_sa://bcz17630:***@125f9f61-9715-46f9-9399-c8177b21803b.c1ogj3sd0tgtu0lqde00.databases.appdomain.cloud:30426/bludb\n",
      "Done.\n"
     ]
    }
   ],
   "source": [
    "arrest = %sql SELECT \"PRIMARY_TYPE\", \"ARREST\" from \"CHICAGO_CRIME_DATA\" where \"ARREST\" = ('TRUE');"
   ],
   "metadata": {
    "collapsed": false,
    "pycharm": {
     "name": "#%%\n"
    }
   }
  },
  {
   "cell_type": "code",
   "execution_count": 51,
   "outputs": [
    {
     "data": {
      "text/plain": "        primary_type arrest\n0              THEFT   TRUE\n1              THEFT   TRUE\n2              THEFT   TRUE\n3              THEFT   TRUE\n4              THEFT   TRUE\n..               ...    ...\n158        OBSCENITY   TRUE\n159  CONCEALED CARRY   TRUE\n160  PUBLIC INDECENC   TRUE\n161  OTHER NARCOTIC    TRUE\n162  DOMESTIC VIOLEN   TRUE\n\n[163 rows x 2 columns]",
      "text/html": "<div>\n<style scoped>\n    .dataframe tbody tr th:only-of-type {\n        vertical-align: middle;\n    }\n\n    .dataframe tbody tr th {\n        vertical-align: top;\n    }\n\n    .dataframe thead th {\n        text-align: right;\n    }\n</style>\n<table border=\"1\" class=\"dataframe\">\n  <thead>\n    <tr style=\"text-align: right;\">\n      <th></th>\n      <th>primary_type</th>\n      <th>arrest</th>\n    </tr>\n  </thead>\n  <tbody>\n    <tr>\n      <th>0</th>\n      <td>THEFT</td>\n      <td>TRUE</td>\n    </tr>\n    <tr>\n      <th>1</th>\n      <td>THEFT</td>\n      <td>TRUE</td>\n    </tr>\n    <tr>\n      <th>2</th>\n      <td>THEFT</td>\n      <td>TRUE</td>\n    </tr>\n    <tr>\n      <th>3</th>\n      <td>THEFT</td>\n      <td>TRUE</td>\n    </tr>\n    <tr>\n      <th>4</th>\n      <td>THEFT</td>\n      <td>TRUE</td>\n    </tr>\n    <tr>\n      <th>...</th>\n      <td>...</td>\n      <td>...</td>\n    </tr>\n    <tr>\n      <th>158</th>\n      <td>OBSCENITY</td>\n      <td>TRUE</td>\n    </tr>\n    <tr>\n      <th>159</th>\n      <td>CONCEALED CARRY</td>\n      <td>TRUE</td>\n    </tr>\n    <tr>\n      <th>160</th>\n      <td>PUBLIC INDECENC</td>\n      <td>TRUE</td>\n    </tr>\n    <tr>\n      <th>161</th>\n      <td>OTHER NARCOTIC</td>\n      <td>TRUE</td>\n    </tr>\n    <tr>\n      <th>162</th>\n      <td>DOMESTIC VIOLEN</td>\n      <td>TRUE</td>\n    </tr>\n  </tbody>\n</table>\n<p>163 rows × 2 columns</p>\n</div>"
     },
     "execution_count": 51,
     "metadata": {},
     "output_type": "execute_result"
    }
   ],
   "source": [
    "table_4 = arrest.DataFrame()\n",
    "table_4"
   ],
   "metadata": {
    "collapsed": false,
    "pycharm": {
     "name": "#%%\n"
    }
   }
  },
  {
   "cell_type": "code",
   "execution_count": 52,
   "outputs": [
    {
     "name": "stdout",
     "output_type": "stream",
     "text": [
      " * ibm_db_sa://bcz17630:***@125f9f61-9715-46f9-9399-c8177b21803b.c1ogj3sd0tgtu0lqde00.databases.appdomain.cloud:30426/bludb\n",
      "Done.\n"
     ]
    }
   ],
   "source": [
    "gas = %sql SELECT PRIMARY_TYPE, LOCATION_DESCRIPTION from CHICAGO_CRIME_DATA where LOCATION_DESCRIPTION = 'GAS STATION';"
   ],
   "metadata": {
    "collapsed": false,
    "pycharm": {
     "name": "#%%\n"
    }
   }
  },
  {
   "cell_type": "code",
   "execution_count": 53,
   "outputs": [
    {
     "data": {
      "text/plain": "      primary_type location_description\n0            THEFT          GAS STATION\n1            THEFT          GAS STATION\n2        NARCOTICS          GAS STATION\n3          ROBBERY          GAS STATION\n4          ROBBERY          GAS STATION\n5  CRIMINAL TRESPA          GAS STATION",
      "text/html": "<div>\n<style scoped>\n    .dataframe tbody tr th:only-of-type {\n        vertical-align: middle;\n    }\n\n    .dataframe tbody tr th {\n        vertical-align: top;\n    }\n\n    .dataframe thead th {\n        text-align: right;\n    }\n</style>\n<table border=\"1\" class=\"dataframe\">\n  <thead>\n    <tr style=\"text-align: right;\">\n      <th></th>\n      <th>primary_type</th>\n      <th>location_description</th>\n    </tr>\n  </thead>\n  <tbody>\n    <tr>\n      <th>0</th>\n      <td>THEFT</td>\n      <td>GAS STATION</td>\n    </tr>\n    <tr>\n      <th>1</th>\n      <td>THEFT</td>\n      <td>GAS STATION</td>\n    </tr>\n    <tr>\n      <th>2</th>\n      <td>NARCOTICS</td>\n      <td>GAS STATION</td>\n    </tr>\n    <tr>\n      <th>3</th>\n      <td>ROBBERY</td>\n      <td>GAS STATION</td>\n    </tr>\n    <tr>\n      <th>4</th>\n      <td>ROBBERY</td>\n      <td>GAS STATION</td>\n    </tr>\n    <tr>\n      <th>5</th>\n      <td>CRIMINAL TRESPA</td>\n      <td>GAS STATION</td>\n    </tr>\n  </tbody>\n</table>\n</div>"
     },
     "execution_count": 53,
     "metadata": {},
     "output_type": "execute_result"
    }
   ],
   "source": [
    "table_5 = gas.DataFrame()\n",
    "table_5"
   ],
   "metadata": {
    "collapsed": false,
    "pycharm": {
     "name": "#%%\n"
    }
   }
  },
  {
   "cell_type": "code",
   "execution_count": 58,
   "outputs": [
    {
     "name": "stdout",
     "output_type": "stream",
     "text": [
      " * ibm_db_sa://bcz17630:***@125f9f61-9715-46f9-9399-c8177b21803b.c1ogj3sd0tgtu0lqde00.databases.appdomain.cloud:30426/bludb\n",
      "Done.\n"
     ]
    }
   ],
   "source": [
    "census_line_10 = %sql SELECT * FROM CENSUS_DATA LIMIT 10;"
   ],
   "metadata": {
    "collapsed": false,
    "pycharm": {
     "name": "#%%\n"
    }
   }
  },
  {
   "cell_type": "code",
   "execution_count": 59,
   "outputs": [
    {
     "data": {
      "text/plain": "   community_area_number community_area_name percent_of_housing_crowded  \\\n0                      1         Rogers Park                        7.7   \n1                      2          West Ridge                        7.8   \n2                      3              Uptown                        3.8   \n3                      4      Lincoln Square                        3.4   \n4                      5        North Center                        0.3   \n5                      6           Lake View                        1.1   \n6                      7        Lincoln Park                        0.8   \n7                      8     Near North Side                        1.9   \n8                      9         Edison Park                        1.1   \n9                     10        Norwood Park                        2.0   \n\n  percent_households_below_poverty PERCENT_AGED_16 _UNEMPLOYED  \\\n0                             23.6                         8.7   \n1                             17.2                         8.8   \n2                             24.0                         8.9   \n3                             10.9                         8.2   \n4                              7.5                         5.2   \n5                             11.4                         4.7   \n6                             12.3                         5.1   \n7                             12.9                         7.0   \n8                              3.3                         6.5   \n9                              5.4                         9.0   \n\n  PERCENT_AGED_25 _WITHOUT_HIGH_SCHOOL_DIPLOMA  \\\n0                                         18.2   \n1                                         20.8   \n2                                         11.8   \n3                                         13.4   \n4                                          4.5   \n5                                          2.6   \n6                                          3.6   \n7                                          2.5   \n8                                          7.4   \n9                                         11.5   \n\n  percent_aged_under_18_or_over_64  per_capita_income  hardship_index  \n0                             27.5              23939              39  \n1                             38.5              23040              46  \n2                             22.2              35787              20  \n3                             25.5              37524              17  \n4                             26.2              57123               6  \n5                             17.0              60058               5  \n6                             21.5              71551               2  \n7                             22.6              88669               1  \n8                             35.3              40959               8  \n9                             39.5              32875              21  ",
      "text/html": "<div>\n<style scoped>\n    .dataframe tbody tr th:only-of-type {\n        vertical-align: middle;\n    }\n\n    .dataframe tbody tr th {\n        vertical-align: top;\n    }\n\n    .dataframe thead th {\n        text-align: right;\n    }\n</style>\n<table border=\"1\" class=\"dataframe\">\n  <thead>\n    <tr style=\"text-align: right;\">\n      <th></th>\n      <th>community_area_number</th>\n      <th>community_area_name</th>\n      <th>percent_of_housing_crowded</th>\n      <th>percent_households_below_poverty</th>\n      <th>PERCENT_AGED_16 _UNEMPLOYED</th>\n      <th>PERCENT_AGED_25 _WITHOUT_HIGH_SCHOOL_DIPLOMA</th>\n      <th>percent_aged_under_18_or_over_64</th>\n      <th>per_capita_income</th>\n      <th>hardship_index</th>\n    </tr>\n  </thead>\n  <tbody>\n    <tr>\n      <th>0</th>\n      <td>1</td>\n      <td>Rogers Park</td>\n      <td>7.7</td>\n      <td>23.6</td>\n      <td>8.7</td>\n      <td>18.2</td>\n      <td>27.5</td>\n      <td>23939</td>\n      <td>39</td>\n    </tr>\n    <tr>\n      <th>1</th>\n      <td>2</td>\n      <td>West Ridge</td>\n      <td>7.8</td>\n      <td>17.2</td>\n      <td>8.8</td>\n      <td>20.8</td>\n      <td>38.5</td>\n      <td>23040</td>\n      <td>46</td>\n    </tr>\n    <tr>\n      <th>2</th>\n      <td>3</td>\n      <td>Uptown</td>\n      <td>3.8</td>\n      <td>24.0</td>\n      <td>8.9</td>\n      <td>11.8</td>\n      <td>22.2</td>\n      <td>35787</td>\n      <td>20</td>\n    </tr>\n    <tr>\n      <th>3</th>\n      <td>4</td>\n      <td>Lincoln Square</td>\n      <td>3.4</td>\n      <td>10.9</td>\n      <td>8.2</td>\n      <td>13.4</td>\n      <td>25.5</td>\n      <td>37524</td>\n      <td>17</td>\n    </tr>\n    <tr>\n      <th>4</th>\n      <td>5</td>\n      <td>North Center</td>\n      <td>0.3</td>\n      <td>7.5</td>\n      <td>5.2</td>\n      <td>4.5</td>\n      <td>26.2</td>\n      <td>57123</td>\n      <td>6</td>\n    </tr>\n    <tr>\n      <th>5</th>\n      <td>6</td>\n      <td>Lake View</td>\n      <td>1.1</td>\n      <td>11.4</td>\n      <td>4.7</td>\n      <td>2.6</td>\n      <td>17.0</td>\n      <td>60058</td>\n      <td>5</td>\n    </tr>\n    <tr>\n      <th>6</th>\n      <td>7</td>\n      <td>Lincoln Park</td>\n      <td>0.8</td>\n      <td>12.3</td>\n      <td>5.1</td>\n      <td>3.6</td>\n      <td>21.5</td>\n      <td>71551</td>\n      <td>2</td>\n    </tr>\n    <tr>\n      <th>7</th>\n      <td>8</td>\n      <td>Near North Side</td>\n      <td>1.9</td>\n      <td>12.9</td>\n      <td>7.0</td>\n      <td>2.5</td>\n      <td>22.6</td>\n      <td>88669</td>\n      <td>1</td>\n    </tr>\n    <tr>\n      <th>8</th>\n      <td>9</td>\n      <td>Edison Park</td>\n      <td>1.1</td>\n      <td>3.3</td>\n      <td>6.5</td>\n      <td>7.4</td>\n      <td>35.3</td>\n      <td>40959</td>\n      <td>8</td>\n    </tr>\n    <tr>\n      <th>9</th>\n      <td>10</td>\n      <td>Norwood Park</td>\n      <td>2.0</td>\n      <td>5.4</td>\n      <td>9.0</td>\n      <td>11.5</td>\n      <td>39.5</td>\n      <td>32875</td>\n      <td>21</td>\n    </tr>\n  </tbody>\n</table>\n</div>"
     },
     "execution_count": 59,
     "metadata": {},
     "output_type": "execute_result"
    }
   ],
   "source": [
    "table_6 = census_line_10.DataFrame()\n",
    "table_6"
   ],
   "metadata": {
    "collapsed": false,
    "pycharm": {
     "name": "#%%\n"
    }
   }
  },
  {
   "cell_type": "code",
   "execution_count": 60,
   "outputs": [
    {
     "name": "stdout",
     "output_type": "stream",
     "text": [
      " * ibm_db_sa://bcz17630:***@125f9f61-9715-46f9-9399-c8177b21803b.c1ogj3sd0tgtu0lqde00.databases.appdomain.cloud:30426/bludb\n",
      "Done.\n"
     ]
    }
   ],
   "source": [
    "area_name = %sql SELECT * FROM CENSUS_DATA WHERE COMMUNITY_AREA_NAME LIKE 'B%';"
   ],
   "metadata": {
    "collapsed": false,
    "pycharm": {
     "name": "#%%\n"
    }
   }
  },
  {
   "cell_type": "code",
   "execution_count": 61,
   "outputs": [
    {
     "data": {
      "text/plain": "   community_area_number community_area_name percent_of_housing_crowded  \\\n0                     19      Belmont Cragin                       10.8   \n1                     47            Burnside                        6.8   \n2                     58       Brighton Park                       14.4   \n3                     60          Bridgeport                        4.5   \n4                     72             Beverly                        0.9   \n\n  percent_households_below_poverty PERCENT_AGED_16 _UNEMPLOYED  \\\n0                             18.7                        14.6   \n1                             33.0                        18.6   \n2                             23.6                        13.9   \n3                             18.9                        13.7   \n4                              5.1                         8.0   \n\n  PERCENT_AGED_25 _WITHOUT_HIGH_SCHOOL_DIPLOMA  \\\n0                                         37.3   \n1                                         19.3   \n2                                         45.1   \n3                                         22.2   \n4                                          3.7   \n\n  percent_aged_under_18_or_over_64  per_capita_income  hardship_index  \n0                             37.3              15461              70  \n1                             42.7              12515              79  \n2                             39.3              13089              84  \n3                             31.3              22694              43  \n4                             40.5              39523              12  ",
      "text/html": "<div>\n<style scoped>\n    .dataframe tbody tr th:only-of-type {\n        vertical-align: middle;\n    }\n\n    .dataframe tbody tr th {\n        vertical-align: top;\n    }\n\n    .dataframe thead th {\n        text-align: right;\n    }\n</style>\n<table border=\"1\" class=\"dataframe\">\n  <thead>\n    <tr style=\"text-align: right;\">\n      <th></th>\n      <th>community_area_number</th>\n      <th>community_area_name</th>\n      <th>percent_of_housing_crowded</th>\n      <th>percent_households_below_poverty</th>\n      <th>PERCENT_AGED_16 _UNEMPLOYED</th>\n      <th>PERCENT_AGED_25 _WITHOUT_HIGH_SCHOOL_DIPLOMA</th>\n      <th>percent_aged_under_18_or_over_64</th>\n      <th>per_capita_income</th>\n      <th>hardship_index</th>\n    </tr>\n  </thead>\n  <tbody>\n    <tr>\n      <th>0</th>\n      <td>19</td>\n      <td>Belmont Cragin</td>\n      <td>10.8</td>\n      <td>18.7</td>\n      <td>14.6</td>\n      <td>37.3</td>\n      <td>37.3</td>\n      <td>15461</td>\n      <td>70</td>\n    </tr>\n    <tr>\n      <th>1</th>\n      <td>47</td>\n      <td>Burnside</td>\n      <td>6.8</td>\n      <td>33.0</td>\n      <td>18.6</td>\n      <td>19.3</td>\n      <td>42.7</td>\n      <td>12515</td>\n      <td>79</td>\n    </tr>\n    <tr>\n      <th>2</th>\n      <td>58</td>\n      <td>Brighton Park</td>\n      <td>14.4</td>\n      <td>23.6</td>\n      <td>13.9</td>\n      <td>45.1</td>\n      <td>39.3</td>\n      <td>13089</td>\n      <td>84</td>\n    </tr>\n    <tr>\n      <th>3</th>\n      <td>60</td>\n      <td>Bridgeport</td>\n      <td>4.5</td>\n      <td>18.9</td>\n      <td>13.7</td>\n      <td>22.2</td>\n      <td>31.3</td>\n      <td>22694</td>\n      <td>43</td>\n    </tr>\n    <tr>\n      <th>4</th>\n      <td>72</td>\n      <td>Beverly</td>\n      <td>0.9</td>\n      <td>5.1</td>\n      <td>8.0</td>\n      <td>3.7</td>\n      <td>40.5</td>\n      <td>39523</td>\n      <td>12</td>\n    </tr>\n  </tbody>\n</table>\n</div>"
     },
     "execution_count": 61,
     "metadata": {},
     "output_type": "execute_result"
    }
   ],
   "source": [
    "table_7 = area_name.DataFrame()\n",
    "table_7"
   ],
   "metadata": {
    "collapsed": false,
    "pycharm": {
     "name": "#%%\n"
    }
   }
  },
  {
   "cell_type": "code",
   "execution_count": null,
   "outputs": [],
   "source": [],
   "metadata": {
    "collapsed": false,
    "pycharm": {
     "name": "#%%\n"
    }
   }
  }
 ],
 "metadata": {
  "kernelspec": {
   "display_name": "Python 3",
   "language": "python",
   "name": "python3"
  },
  "language_info": {
   "codemirror_mode": {
    "name": "ipython",
    "version": 2
   },
   "file_extension": ".py",
   "mimetype": "text/x-python",
   "name": "python",
   "nbconvert_exporter": "python",
   "pygments_lexer": "ipython2",
   "version": "2.7.6"
  }
 },
 "nbformat": 4,
 "nbformat_minor": 0
}