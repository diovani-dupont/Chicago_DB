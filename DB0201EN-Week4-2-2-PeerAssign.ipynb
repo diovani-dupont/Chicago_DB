{
 "cells": [
  {
   "cell_type": "markdown",
   "metadata": {
    "pycharm": {
     "name": "#%% md\n"
    }
   },
   "source": [
    "<p style=\"text-align:center\">\n",
    "    <a href=\"https://skills.network/?utm_medium=Exinfluencer&utm_source=Exinfluencer&utm_content=000026UJ&utm_term=10006555&utm_id=NA-SkillsNetwork-Channel-SkillsNetworkCoursesIBMDeveloperSkillsNetworkDB0201ENSkillsNetwork20127838-2022-01-01\" target=\"_blank\">\n",
    "    <img src=\"https://cf-courses-data.s3.us.cloud-object-storage.appdomain.cloud/assets/logos/SN_web_lightmode.png\" width=\"200\" alt=\"Skills Network Logo\"  />\n",
    "    </a>\n",
    "</p>\n",
    "\n",
    "<h1 align=center><font size = 5>Assignment: Notebook for Peer Assignment</font></h1>\n"
   ]
  },
  {
   "cell_type": "markdown",
   "metadata": {
    "pycharm": {
     "name": "#%% md\n"
    }
   },
   "source": [
    "# Introduction\n",
    "\n",
    "Using this Python notebook you will:\n",
    "\n",
    "1.  Understand 3 Chicago datasets\n",
    "2.  Load the 3 datasets into 3 tables in a Db2 database\n",
    "3.  Execute SQL queries to answer assignment questions\n"
   ]
  },
  {
   "cell_type": "markdown",
   "metadata": {
    "pycharm": {
     "name": "#%% md\n"
    }
   },
   "source": [
    "### Download the datasets\n",
    "\n",
    "In many cases the dataset to be analyzed is available as a .CSV (comma separated values) file, perhaps on the internet. Click on the links below to download and save the datasets (.CSV files):\n",
    "\n",
    "1.  **CENSUS_DATA:** <a href=\"https://cf-courses-data.s3.us.cloud-object-storage.appdomain.cloud/IBMDeveloperSkillsNetwork-DB0201EN-SkillsNetwork/labs/FinalModule_Coursera/data/Census_Data_-_Selected_socioeconomic_indicators_in_Chicago__2008___2012-v2.csv?utm_medium=Exinfluencer&utm_source=Exinfluencer&utm_content=000026UJ&utm_term=10006555&utm_id=NA-SkillsNetwork-Channel-SkillsNetworkCoursesIBMDeveloperSkillsNetworkDB0201ENSkillsNetwork20127838-2022-01-01\" target=\"_blank\">Census Dataset</a>\n",
    "\n",
    "2.  **CHICAGO_PUBLIC_SCHOOLS**  <a href=\"https://cf-courses-data.s3.us.cloud-object-storage.appdomain.cloud/IBMDeveloperSkillsNetwork-DB0201EN-SkillsNetwork/labs/FinalModule_Coursera/data/Chicago_Public_Schools_-_Progress_Report_Cards__2011-2012-v3.csv?utm_medium=Exinfluencer&utm_source=Exinfluencer&utm_content=000026UJ&utm_term=10006555&utm_id=NA-SkillsNetwork-Channel-SkillsNetworkCoursesIBMDeveloperSkillsNetworkDB0201ENSkillsNetwork20127838-2022-01-01\" target=\"_blank\"> Chicago Public School</a>\n",
    "\n",
    "3.  **CHICAGO_CRIME_DATA:** <a href=\"https://cf-courses-data.s3.us.cloud-object-storage.appdomain.cloud/IBMDeveloperSkillsNetwork-DB0201EN-SkillsNetwork/labs/FinalModule_Coursera/data/Chicago_Crime_Data-v2.csv?utm_medium=Exinfluencer&utm_source=Exinfluencer&utm_content=000026UJ&utm_term=10006555&utm_id=NA-SkillsNetwork-Channel-SkillsNetworkCoursesIBMDeveloperSkillsNetworkDB0201ENSkillsNetwork20127838-2022-01-01\" target=\"_blank\"> Chicago Crime Data </a>\n",
    "\n",
    "**NOTE:** Ensure you have downloaded the datasets using the links above instead of directly from the Chicago Data Portal. The versions linked here are subsets of the original datasets and have some of the column names modified to be more database friendly which will make it easier to complete this assignment.\n"
   ]
  },
  {
   "cell_type": "markdown",
   "metadata": {
    "pycharm": {
     "name": "#%% md\n"
    }
   },
   "source": [
    "### Connect to the database\n",
    "\n",
    "Let us first load the SQL extension and establish a connection with the database\n",
    "\n",
    "The following required modules are pre-installed in the Skills Network Labs environment. However if you run this notebook commands in a different Jupyter environment (e.g. Watson Studio or Ananconda) you may need to install these libraries by removing the `#` sign before `!pip` in the code cell below.\n"
   ]
  },
  {
   "cell_type": "code",
   "execution_count": 1,
   "metadata": {
    "pycharm": {
     "name": "#%%\n"
    }
   },
   "outputs": [],
   "source": [
    "import sqlalchemy\n",
    "import ibm_db\n",
    "import ibm_db_sa\n",
    "import ibm_db_dbi\n",
    "import sys"
   ]
  },
  {
   "cell_type": "code",
   "execution_count": 2,
   "metadata": {
    "pycharm": {
     "name": "#%%\n"
    }
   },
   "outputs": [],
   "source": [
    "%load_ext sql"
   ]
  },
  {
   "cell_type": "code",
   "execution_count": 3,
   "metadata": {
    "pycharm": {
     "name": "#%%\n"
    }
   },
   "outputs": [],
   "source": [
    "%sql ibm_db_sa://"
   ]
  },
  {
   "cell_type": "markdown",
   "metadata": {
    "pycharm": {
     "name": "#%% md\n"
    }
   },
   "source": [
    "## Problems\n",
    "\n",
    "Now write and execute SQL queries to solve assignment problems\n",
    "\n",
    "### Problem 1\n",
    "\n",
    "##### Find the total number of crimes recorded in the CRIME table\n"
   ]
  },
  {
   "cell_type": "code",
   "execution_count": null,
   "metadata": {
    "pycharm": {
     "name": "#%%\n",
     "is_executing": true
    }
   },
   "outputs": [],
   "source": [
    "primary_type = %sql SELECT COUNT (PRIMARY_TYPE) FROM CHICAGO_CRIME_DATA;"
   ]
  },
  {
   "cell_type": "code",
   "execution_count": 5,
   "outputs": [
    {
     "data": {
      "text/plain": "     1\n0  533",
      "text/html": "<div>\n<style scoped>\n    .dataframe tbody tr th:only-of-type {\n        vertical-align: middle;\n    }\n\n    .dataframe tbody tr th {\n        vertical-align: top;\n    }\n\n    .dataframe thead th {\n        text-align: right;\n    }\n</style>\n<table border=\"1\" class=\"dataframe\">\n  <thead>\n    <tr style=\"text-align: right;\">\n      <th></th>\n      <th>1</th>\n    </tr>\n  </thead>\n  <tbody>\n    <tr>\n      <th>0</th>\n      <td>533</td>\n    </tr>\n  </tbody>\n</table>\n</div>"
     },
     "execution_count": 5,
     "metadata": {},
     "output_type": "execute_result"
    }
   ],
   "source": [
    "df_1 = primary_type.DataFrame()\n",
    "df_1"
   ],
   "metadata": {
    "collapsed": false,
    "pycharm": {
     "name": "#%%\n"
    }
   }
  },
  {
   "cell_type": "markdown",
   "metadata": {
    "pycharm": {
     "name": "#%% md\n"
    }
   },
   "source": [
    "### Problem 2\n",
    "\n",
    "##### Retrieve first 10 rows from the CRIME table\n"
   ]
  },
  {
   "cell_type": "code",
   "execution_count": null,
   "metadata": {
    "collapsed": true,
    "jupyter": {
     "outputs_hidden": true
    },
    "pycharm": {
     "name": "#%%\n",
     "is_executing": true
    }
   },
   "outputs": [],
   "source": [
    "chicago_line_10 = %sql SELECT * FROM CHICAGO_CRIME_DATA LIMIT 10;"
   ]
  },
  {
   "cell_type": "code",
   "execution_count": 7,
   "outputs": [
    {
     "data": {
      "text/plain": "         id case_number                DATE                     block iucr  \\\n0   3512276    HK587712 2004-08-28 05:50:56        047XX S KEDZIE AVE  890   \n1   3406613    HK456306 2004-06-26 12:40:00  009XX N CENTRAL PARK AVE  820   \n2   8002131    HT233595 2011-04-04 05:45:00        043XX S WABASH AVE  820   \n3   7903289    HT133522 2010-12-30 04:30:00      083XX S KINGSTON AVE  840   \n4  10402076    HZ138551 2016-02-02 19:30:00           033XX W 66TH ST  820   \n5   7732712    HS540106 2010-09-29 07:59:00       006XX W CHICAGO AVE  810   \n6  10769475    HZ534771 2016-11-30 01:15:00        050XX N KEDZIE AVE  810   \n7   4494340    HL793243 2005-12-16 04:45:00       005XX E PERSHING RD  860   \n8   3778925    HL149610 2005-01-28 05:00:00     100XX S WASHTENAW AVE  810   \n9   3324217    HK361551 2004-05-13 02:15:00       033XX W BELMONT AVE  820   \n\n  primary_type                    description          location_description  \\\n0        THEFT                  FROM BUILDING            SMALL RETAIL STORE   \n1        THEFT                 $500 AND UNDER                         OTHER   \n2        THEFT                 $500 AND UNDER  NURSING HOME RETIREMENT HOME   \n3        THEFT  FINANCIAL ID THEFT  OVER $300                     RESIDENCE   \n4        THEFT                 $500 AND UNDER                         ALLEY   \n5        THEFT                      OVER $500    PARKING LOT GARAGENONRESID   \n6        THEFT                      OVER $500                        STREET   \n7        THEFT                   RETAIL THEFT            GROCERY FOOD STORE   \n8        THEFT                      OVER $500                        STREET   \n9        THEFT                 $500 AND UNDER            SMALL RETAIL STORE   \n\n  arrest domestic  ...  district  ward community_area_number fbicode  \\\n0  FALSE    FALSE  ...         9    14                    58       6   \n1  FALSE    FALSE  ...        11    27                    23       6   \n2  FALSE    FALSE  ...         2     3                    38       6   \n3  FALSE    FALSE  ...         4     7                    46       6   \n4  FALSE    FALSE  ...         8    15                    66       6   \n5  FALSE    FALSE  ...        12    27                    24       6   \n6  FALSE    FALSE  ...        17    33                    14       6   \n7   TRUE    FALSE  ...         2     3                    38       6   \n8  FALSE    FALSE  ...        22    19                    72       6   \n9  FALSE    FALSE  ...        17    35                    21       6   \n\n  x_coordinate  y_coordinate  YEAR           updatedon latitude longitude  \n0      1155838       1873050  2004 2018-02-10 15:50:01     None      None  \n1      1152206       1906127  2004 2018-02-28 03:56:25     None      None  \n2      1177436       1876313  2011 2018-02-10 15:50:01     None      None  \n3      1194622       1850125  2010 2018-02-10 15:50:01     None      None  \n4      1155240       1860661  2016 2018-02-10 15:50:01     None      None  \n5      1171668       1905607  2010 2018-02-10 15:50:01     None      None  \n6      1154133       1933314  2016 2018-02-10 15:50:01     None      None  \n7      1180448       1879234  2005 2018-02-28 03:56:25     None      None  \n8      1160129       1838040  2005 2018-02-28 03:56:25     None      None  \n9      1153590       1921084  2004 2018-02-28 03:56:25     None      None  \n\n[10 rows x 21 columns]",
      "text/html": "<div>\n<style scoped>\n    .dataframe tbody tr th:only-of-type {\n        vertical-align: middle;\n    }\n\n    .dataframe tbody tr th {\n        vertical-align: top;\n    }\n\n    .dataframe thead th {\n        text-align: right;\n    }\n</style>\n<table border=\"1\" class=\"dataframe\">\n  <thead>\n    <tr style=\"text-align: right;\">\n      <th></th>\n      <th>id</th>\n      <th>case_number</th>\n      <th>DATE</th>\n      <th>block</th>\n      <th>iucr</th>\n      <th>primary_type</th>\n      <th>description</th>\n      <th>location_description</th>\n      <th>arrest</th>\n      <th>domestic</th>\n      <th>...</th>\n      <th>district</th>\n      <th>ward</th>\n      <th>community_area_number</th>\n      <th>fbicode</th>\n      <th>x_coordinate</th>\n      <th>y_coordinate</th>\n      <th>YEAR</th>\n      <th>updatedon</th>\n      <th>latitude</th>\n      <th>longitude</th>\n    </tr>\n  </thead>\n  <tbody>\n    <tr>\n      <th>0</th>\n      <td>3512276</td>\n      <td>HK587712</td>\n      <td>2004-08-28 05:50:56</td>\n      <td>047XX S KEDZIE AVE</td>\n      <td>890</td>\n      <td>THEFT</td>\n      <td>FROM BUILDING</td>\n      <td>SMALL RETAIL STORE</td>\n      <td>FALSE</td>\n      <td>FALSE</td>\n      <td>...</td>\n      <td>9</td>\n      <td>14</td>\n      <td>58</td>\n      <td>6</td>\n      <td>1155838</td>\n      <td>1873050</td>\n      <td>2004</td>\n      <td>2018-02-10 15:50:01</td>\n      <td>None</td>\n      <td>None</td>\n    </tr>\n    <tr>\n      <th>1</th>\n      <td>3406613</td>\n      <td>HK456306</td>\n      <td>2004-06-26 12:40:00</td>\n      <td>009XX N CENTRAL PARK AVE</td>\n      <td>820</td>\n      <td>THEFT</td>\n      <td>$500 AND UNDER</td>\n      <td>OTHER</td>\n      <td>FALSE</td>\n      <td>FALSE</td>\n      <td>...</td>\n      <td>11</td>\n      <td>27</td>\n      <td>23</td>\n      <td>6</td>\n      <td>1152206</td>\n      <td>1906127</td>\n      <td>2004</td>\n      <td>2018-02-28 03:56:25</td>\n      <td>None</td>\n      <td>None</td>\n    </tr>\n    <tr>\n      <th>2</th>\n      <td>8002131</td>\n      <td>HT233595</td>\n      <td>2011-04-04 05:45:00</td>\n      <td>043XX S WABASH AVE</td>\n      <td>820</td>\n      <td>THEFT</td>\n      <td>$500 AND UNDER</td>\n      <td>NURSING HOME RETIREMENT HOME</td>\n      <td>FALSE</td>\n      <td>FALSE</td>\n      <td>...</td>\n      <td>2</td>\n      <td>3</td>\n      <td>38</td>\n      <td>6</td>\n      <td>1177436</td>\n      <td>1876313</td>\n      <td>2011</td>\n      <td>2018-02-10 15:50:01</td>\n      <td>None</td>\n      <td>None</td>\n    </tr>\n    <tr>\n      <th>3</th>\n      <td>7903289</td>\n      <td>HT133522</td>\n      <td>2010-12-30 04:30:00</td>\n      <td>083XX S KINGSTON AVE</td>\n      <td>840</td>\n      <td>THEFT</td>\n      <td>FINANCIAL ID THEFT  OVER $300</td>\n      <td>RESIDENCE</td>\n      <td>FALSE</td>\n      <td>FALSE</td>\n      <td>...</td>\n      <td>4</td>\n      <td>7</td>\n      <td>46</td>\n      <td>6</td>\n      <td>1194622</td>\n      <td>1850125</td>\n      <td>2010</td>\n      <td>2018-02-10 15:50:01</td>\n      <td>None</td>\n      <td>None</td>\n    </tr>\n    <tr>\n      <th>4</th>\n      <td>10402076</td>\n      <td>HZ138551</td>\n      <td>2016-02-02 19:30:00</td>\n      <td>033XX W 66TH ST</td>\n      <td>820</td>\n      <td>THEFT</td>\n      <td>$500 AND UNDER</td>\n      <td>ALLEY</td>\n      <td>FALSE</td>\n      <td>FALSE</td>\n      <td>...</td>\n      <td>8</td>\n      <td>15</td>\n      <td>66</td>\n      <td>6</td>\n      <td>1155240</td>\n      <td>1860661</td>\n      <td>2016</td>\n      <td>2018-02-10 15:50:01</td>\n      <td>None</td>\n      <td>None</td>\n    </tr>\n    <tr>\n      <th>5</th>\n      <td>7732712</td>\n      <td>HS540106</td>\n      <td>2010-09-29 07:59:00</td>\n      <td>006XX W CHICAGO AVE</td>\n      <td>810</td>\n      <td>THEFT</td>\n      <td>OVER $500</td>\n      <td>PARKING LOT GARAGENONRESID</td>\n      <td>FALSE</td>\n      <td>FALSE</td>\n      <td>...</td>\n      <td>12</td>\n      <td>27</td>\n      <td>24</td>\n      <td>6</td>\n      <td>1171668</td>\n      <td>1905607</td>\n      <td>2010</td>\n      <td>2018-02-10 15:50:01</td>\n      <td>None</td>\n      <td>None</td>\n    </tr>\n    <tr>\n      <th>6</th>\n      <td>10769475</td>\n      <td>HZ534771</td>\n      <td>2016-11-30 01:15:00</td>\n      <td>050XX N KEDZIE AVE</td>\n      <td>810</td>\n      <td>THEFT</td>\n      <td>OVER $500</td>\n      <td>STREET</td>\n      <td>FALSE</td>\n      <td>FALSE</td>\n      <td>...</td>\n      <td>17</td>\n      <td>33</td>\n      <td>14</td>\n      <td>6</td>\n      <td>1154133</td>\n      <td>1933314</td>\n      <td>2016</td>\n      <td>2018-02-10 15:50:01</td>\n      <td>None</td>\n      <td>None</td>\n    </tr>\n    <tr>\n      <th>7</th>\n      <td>4494340</td>\n      <td>HL793243</td>\n      <td>2005-12-16 04:45:00</td>\n      <td>005XX E PERSHING RD</td>\n      <td>860</td>\n      <td>THEFT</td>\n      <td>RETAIL THEFT</td>\n      <td>GROCERY FOOD STORE</td>\n      <td>TRUE</td>\n      <td>FALSE</td>\n      <td>...</td>\n      <td>2</td>\n      <td>3</td>\n      <td>38</td>\n      <td>6</td>\n      <td>1180448</td>\n      <td>1879234</td>\n      <td>2005</td>\n      <td>2018-02-28 03:56:25</td>\n      <td>None</td>\n      <td>None</td>\n    </tr>\n    <tr>\n      <th>8</th>\n      <td>3778925</td>\n      <td>HL149610</td>\n      <td>2005-01-28 05:00:00</td>\n      <td>100XX S WASHTENAW AVE</td>\n      <td>810</td>\n      <td>THEFT</td>\n      <td>OVER $500</td>\n      <td>STREET</td>\n      <td>FALSE</td>\n      <td>FALSE</td>\n      <td>...</td>\n      <td>22</td>\n      <td>19</td>\n      <td>72</td>\n      <td>6</td>\n      <td>1160129</td>\n      <td>1838040</td>\n      <td>2005</td>\n      <td>2018-02-28 03:56:25</td>\n      <td>None</td>\n      <td>None</td>\n    </tr>\n    <tr>\n      <th>9</th>\n      <td>3324217</td>\n      <td>HK361551</td>\n      <td>2004-05-13 02:15:00</td>\n      <td>033XX W BELMONT AVE</td>\n      <td>820</td>\n      <td>THEFT</td>\n      <td>$500 AND UNDER</td>\n      <td>SMALL RETAIL STORE</td>\n      <td>FALSE</td>\n      <td>FALSE</td>\n      <td>...</td>\n      <td>17</td>\n      <td>35</td>\n      <td>21</td>\n      <td>6</td>\n      <td>1153590</td>\n      <td>1921084</td>\n      <td>2004</td>\n      <td>2018-02-28 03:56:25</td>\n      <td>None</td>\n      <td>None</td>\n    </tr>\n  </tbody>\n</table>\n<p>10 rows × 21 columns</p>\n</div>"
     },
     "execution_count": 7,
     "metadata": {},
     "output_type": "execute_result"
    }
   ],
   "source": [
    "df_2 = chicago_line_10.DataFrame()\n",
    "df_2"
   ],
   "metadata": {
    "collapsed": false,
    "pycharm": {
     "name": "#%%\n"
    }
   }
  },
  {
   "cell_type": "markdown",
   "metadata": {
    "pycharm": {
     "name": "#%% md\n"
    }
   },
   "source": [
    "### Problem 3\n",
    "\n",
    "##### How many crimes involve an arrest?\n"
   ]
  },
  {
   "cell_type": "code",
   "execution_count": null,
   "metadata": {
    "collapsed": true,
    "jupyter": {
     "outputs_hidden": true
    },
    "pycharm": {
     "name": "#%%\n",
     "is_executing": true
    }
   },
   "outputs": [],
   "source": [
    "arrest = %sql SELECT \"PRIMARY_TYPE\", \"ARREST\" from \"CHICAGO_CRIME_DATA\" where \"ARREST\" = ('TRUE');"
   ]
  },
  {
   "cell_type": "code",
   "execution_count": 9,
   "outputs": [
    {
     "data": {
      "text/plain": "        primary_type arrest\n0              THEFT   TRUE\n1              THEFT   TRUE\n2              THEFT   TRUE\n3              THEFT   TRUE\n4              THEFT   TRUE\n..               ...    ...\n158        OBSCENITY   TRUE\n159  CONCEALED CARRY   TRUE\n160  PUBLIC INDECENC   TRUE\n161  OTHER NARCOTIC    TRUE\n162  DOMESTIC VIOLEN   TRUE\n\n[163 rows x 2 columns]",
      "text/html": "<div>\n<style scoped>\n    .dataframe tbody tr th:only-of-type {\n        vertical-align: middle;\n    }\n\n    .dataframe tbody tr th {\n        vertical-align: top;\n    }\n\n    .dataframe thead th {\n        text-align: right;\n    }\n</style>\n<table border=\"1\" class=\"dataframe\">\n  <thead>\n    <tr style=\"text-align: right;\">\n      <th></th>\n      <th>primary_type</th>\n      <th>arrest</th>\n    </tr>\n  </thead>\n  <tbody>\n    <tr>\n      <th>0</th>\n      <td>THEFT</td>\n      <td>TRUE</td>\n    </tr>\n    <tr>\n      <th>1</th>\n      <td>THEFT</td>\n      <td>TRUE</td>\n    </tr>\n    <tr>\n      <th>2</th>\n      <td>THEFT</td>\n      <td>TRUE</td>\n    </tr>\n    <tr>\n      <th>3</th>\n      <td>THEFT</td>\n      <td>TRUE</td>\n    </tr>\n    <tr>\n      <th>4</th>\n      <td>THEFT</td>\n      <td>TRUE</td>\n    </tr>\n    <tr>\n      <th>...</th>\n      <td>...</td>\n      <td>...</td>\n    </tr>\n    <tr>\n      <th>158</th>\n      <td>OBSCENITY</td>\n      <td>TRUE</td>\n    </tr>\n    <tr>\n      <th>159</th>\n      <td>CONCEALED CARRY</td>\n      <td>TRUE</td>\n    </tr>\n    <tr>\n      <th>160</th>\n      <td>PUBLIC INDECENC</td>\n      <td>TRUE</td>\n    </tr>\n    <tr>\n      <th>161</th>\n      <td>OTHER NARCOTIC</td>\n      <td>TRUE</td>\n    </tr>\n    <tr>\n      <th>162</th>\n      <td>DOMESTIC VIOLEN</td>\n      <td>TRUE</td>\n    </tr>\n  </tbody>\n</table>\n<p>163 rows × 2 columns</p>\n</div>"
     },
     "execution_count": 9,
     "metadata": {},
     "output_type": "execute_result"
    }
   ],
   "source": [
    "df_3 = arrest.DataFrame()\n",
    "df_3"
   ],
   "metadata": {
    "collapsed": false,
    "pycharm": {
     "name": "#%%\n"
    }
   }
  },
  {
   "cell_type": "markdown",
   "metadata": {
    "pycharm": {
     "name": "#%% md\n"
    }
   },
   "source": [
    "### Problem 4\n",
    "\n",
    "##### Which unique types of crimes have been recorded at GAS STATION locations?\n"
   ]
  },
  {
   "cell_type": "code",
   "execution_count": null,
   "metadata": {
    "collapsed": true,
    "jupyter": {
     "outputs_hidden": true
    },
    "pycharm": {
     "name": "#%%\n",
     "is_executing": true
    }
   },
   "outputs": [],
   "source": [
    "gas = %sql SELECT PRIMARY_TYPE, LOCATION_DESCRIPTION from CHICAGO_CRIME_DATA where LOCATION_DESCRIPTION = 'GAS STATION';"
   ]
  },
  {
   "cell_type": "code",
   "execution_count": 11,
   "outputs": [
    {
     "data": {
      "text/plain": "      primary_type location_description\n0            THEFT          GAS STATION\n1            THEFT          GAS STATION\n2        NARCOTICS          GAS STATION\n3          ROBBERY          GAS STATION\n4          ROBBERY          GAS STATION\n5  CRIMINAL TRESPA          GAS STATION",
      "text/html": "<div>\n<style scoped>\n    .dataframe tbody tr th:only-of-type {\n        vertical-align: middle;\n    }\n\n    .dataframe tbody tr th {\n        vertical-align: top;\n    }\n\n    .dataframe thead th {\n        text-align: right;\n    }\n</style>\n<table border=\"1\" class=\"dataframe\">\n  <thead>\n    <tr style=\"text-align: right;\">\n      <th></th>\n      <th>primary_type</th>\n      <th>location_description</th>\n    </tr>\n  </thead>\n  <tbody>\n    <tr>\n      <th>0</th>\n      <td>THEFT</td>\n      <td>GAS STATION</td>\n    </tr>\n    <tr>\n      <th>1</th>\n      <td>THEFT</td>\n      <td>GAS STATION</td>\n    </tr>\n    <tr>\n      <th>2</th>\n      <td>NARCOTICS</td>\n      <td>GAS STATION</td>\n    </tr>\n    <tr>\n      <th>3</th>\n      <td>ROBBERY</td>\n      <td>GAS STATION</td>\n    </tr>\n    <tr>\n      <th>4</th>\n      <td>ROBBERY</td>\n      <td>GAS STATION</td>\n    </tr>\n    <tr>\n      <th>5</th>\n      <td>CRIMINAL TRESPA</td>\n      <td>GAS STATION</td>\n    </tr>\n  </tbody>\n</table>\n</div>"
     },
     "execution_count": 11,
     "metadata": {},
     "output_type": "execute_result"
    }
   ],
   "source": [
    "df_4 = gas.DataFrame()\n",
    "df_4"
   ],
   "metadata": {
    "collapsed": false,
    "pycharm": {
     "name": "#%%\n"
    }
   }
  },
  {
   "cell_type": "markdown",
   "metadata": {
    "pycharm": {
     "name": "#%% md\n"
    }
   },
   "source": [
    "Hint: Which column lists types of crimes e.g. THEFT?\n"
   ]
  },
  {
   "cell_type": "markdown",
   "metadata": {
    "pycharm": {
     "name": "#%% md\n"
    }
   },
   "source": [
    "### Problem 5\n",
    "\n",
    "##### In the CENUS_DATA table list all Community Areas whose names start with the letter ‘B’.\n"
   ]
  },
  {
   "cell_type": "code",
   "execution_count": null,
   "metadata": {
    "collapsed": true,
    "jupyter": {
     "outputs_hidden": true
    },
    "pycharm": {
     "name": "#%%\n",
     "is_executing": true
    }
   },
   "outputs": [],
   "source": [
    "area_name = %sql SELECT * FROM CENSUS_DATA WHERE COMMUNITY_AREA_NAME LIKE 'B%';"
   ]
  },
  {
   "cell_type": "code",
   "execution_count": 13,
   "outputs": [
    {
     "data": {
      "text/plain": "   community_area_number community_area_name percent_of_housing_crowded  \\\n0                     19      Belmont Cragin                       10.8   \n1                     47            Burnside                        6.8   \n2                     58       Brighton Park                       14.4   \n3                     60          Bridgeport                        4.5   \n4                     72             Beverly                        0.9   \n\n  percent_households_below_poverty PERCENT_AGED_16 _UNEMPLOYED  \\\n0                             18.7                        14.6   \n1                             33.0                        18.6   \n2                             23.6                        13.9   \n3                             18.9                        13.7   \n4                              5.1                         8.0   \n\n  PERCENT_AGED_25 _WITHOUT_HIGH_SCHOOL_DIPLOMA  \\\n0                                         37.3   \n1                                         19.3   \n2                                         45.1   \n3                                         22.2   \n4                                          3.7   \n\n  percent_aged_under_18_or_over_64  per_capita_income  hardship_index  \n0                             37.3              15461              70  \n1                             42.7              12515              79  \n2                             39.3              13089              84  \n3                             31.3              22694              43  \n4                             40.5              39523              12  ",
      "text/html": "<div>\n<style scoped>\n    .dataframe tbody tr th:only-of-type {\n        vertical-align: middle;\n    }\n\n    .dataframe tbody tr th {\n        vertical-align: top;\n    }\n\n    .dataframe thead th {\n        text-align: right;\n    }\n</style>\n<table border=\"1\" class=\"dataframe\">\n  <thead>\n    <tr style=\"text-align: right;\">\n      <th></th>\n      <th>community_area_number</th>\n      <th>community_area_name</th>\n      <th>percent_of_housing_crowded</th>\n      <th>percent_households_below_poverty</th>\n      <th>PERCENT_AGED_16 _UNEMPLOYED</th>\n      <th>PERCENT_AGED_25 _WITHOUT_HIGH_SCHOOL_DIPLOMA</th>\n      <th>percent_aged_under_18_or_over_64</th>\n      <th>per_capita_income</th>\n      <th>hardship_index</th>\n    </tr>\n  </thead>\n  <tbody>\n    <tr>\n      <th>0</th>\n      <td>19</td>\n      <td>Belmont Cragin</td>\n      <td>10.8</td>\n      <td>18.7</td>\n      <td>14.6</td>\n      <td>37.3</td>\n      <td>37.3</td>\n      <td>15461</td>\n      <td>70</td>\n    </tr>\n    <tr>\n      <th>1</th>\n      <td>47</td>\n      <td>Burnside</td>\n      <td>6.8</td>\n      <td>33.0</td>\n      <td>18.6</td>\n      <td>19.3</td>\n      <td>42.7</td>\n      <td>12515</td>\n      <td>79</td>\n    </tr>\n    <tr>\n      <th>2</th>\n      <td>58</td>\n      <td>Brighton Park</td>\n      <td>14.4</td>\n      <td>23.6</td>\n      <td>13.9</td>\n      <td>45.1</td>\n      <td>39.3</td>\n      <td>13089</td>\n      <td>84</td>\n    </tr>\n    <tr>\n      <th>3</th>\n      <td>60</td>\n      <td>Bridgeport</td>\n      <td>4.5</td>\n      <td>18.9</td>\n      <td>13.7</td>\n      <td>22.2</td>\n      <td>31.3</td>\n      <td>22694</td>\n      <td>43</td>\n    </tr>\n    <tr>\n      <th>4</th>\n      <td>72</td>\n      <td>Beverly</td>\n      <td>0.9</td>\n      <td>5.1</td>\n      <td>8.0</td>\n      <td>3.7</td>\n      <td>40.5</td>\n      <td>39523</td>\n      <td>12</td>\n    </tr>\n  </tbody>\n</table>\n</div>"
     },
     "execution_count": 13,
     "metadata": {},
     "output_type": "execute_result"
    }
   ],
   "source": [
    "df_5 = area_name.DataFrame()\n",
    "df_5"
   ],
   "metadata": {
    "collapsed": false,
    "pycharm": {
     "name": "#%%\n"
    }
   }
  },
  {
   "cell_type": "markdown",
   "metadata": {
    "pycharm": {
     "name": "#%% md\n"
    }
   },
   "source": [
    "### Problem 6\n",
    "\n",
    "##### Which schools in Community Areas 10 to 15 are healthy school certified?\n"
   ]
  },
  {
   "cell_type": "code",
   "execution_count": null,
   "metadata": {
    "collapsed": true,
    "jupyter": {
     "outputs_hidden": true
    },
    "pycharm": {
     "name": "#%%\n",
     "is_executing": true
    }
   },
   "outputs": [],
   "source": [
    "healthy = %sql SELECT NAME_OF_SCHOOL from CHICAGO_PUBLIC_SCHOOLS \\\n",
    "where HEALTHY_SCHOOL_CERTIFIED = 'Yes' and  COMMUNITY_AREA_NUMBER between 10 and 15;"
   ]
  },
  {
   "cell_type": "code",
   "execution_count": 15,
   "outputs": [
    {
     "data": {
      "text/plain": "                    name_of_school\n0  Rufus M Hitch Elementary School",
      "text/html": "<div>\n<style scoped>\n    .dataframe tbody tr th:only-of-type {\n        vertical-align: middle;\n    }\n\n    .dataframe tbody tr th {\n        vertical-align: top;\n    }\n\n    .dataframe thead th {\n        text-align: right;\n    }\n</style>\n<table border=\"1\" class=\"dataframe\">\n  <thead>\n    <tr style=\"text-align: right;\">\n      <th></th>\n      <th>name_of_school</th>\n    </tr>\n  </thead>\n  <tbody>\n    <tr>\n      <th>0</th>\n      <td>Rufus M Hitch Elementary School</td>\n    </tr>\n  </tbody>\n</table>\n</div>"
     },
     "execution_count": 15,
     "metadata": {},
     "output_type": "execute_result"
    }
   ],
   "source": [
    "df_6 = healthy.DataFrame()\n",
    "df_6"
   ],
   "metadata": {
    "collapsed": false,
    "pycharm": {
     "name": "#%%\n"
    }
   }
  },
  {
   "cell_type": "markdown",
   "metadata": {
    "pycharm": {
     "name": "#%% md\n"
    }
   },
   "source": [
    "### Problem 7\n",
    "\n",
    "##### What is the average school Safety Score?\n"
   ]
  },
  {
   "cell_type": "code",
   "execution_count": null,
   "outputs": [],
   "source": [
    "average = %sql select avg(SAFETY_SCORE) as avg_school_safety from CHICAGO_PUBLIC_SCHOOLS;"
   ],
   "metadata": {
    "collapsed": false,
    "pycharm": {
     "name": "#%%\n",
     "is_executing": true
    }
   }
  },
  {
   "cell_type": "code",
   "execution_count": 43,
   "outputs": [
    {
     "data": {
      "text/plain": "                     avg_school_safety\n0  44.86925795053003533568904593639576",
      "text/html": "<div>\n<style scoped>\n    .dataframe tbody tr th:only-of-type {\n        vertical-align: middle;\n    }\n\n    .dataframe tbody tr th {\n        vertical-align: top;\n    }\n\n    .dataframe thead th {\n        text-align: right;\n    }\n</style>\n<table border=\"1\" class=\"dataframe\">\n  <thead>\n    <tr style=\"text-align: right;\">\n      <th></th>\n      <th>avg_school_safety</th>\n    </tr>\n  </thead>\n  <tbody>\n    <tr>\n      <th>0</th>\n      <td>44.86925795053003533568904593639576</td>\n    </tr>\n  </tbody>\n</table>\n</div>"
     },
     "execution_count": 43,
     "metadata": {},
     "output_type": "execute_result"
    }
   ],
   "source": [
    "df_7 = average.DataFrame()"
   ],
   "metadata": {
    "collapsed": false,
    "pycharm": {
     "name": "#%%\n"
    }
   }
  },
  {
   "cell_type": "markdown",
   "metadata": {
    "pycharm": {
     "name": "#%% md\n"
    }
   },
   "source": [
    "### Problem 8\n",
    "\n",
    "##### List the top 5 Community Areas by average College Enrollment \\[number of students]\n"
   ]
  },
  {
   "cell_type": "code",
   "execution_count": null,
   "metadata": {
    "pycharm": {
     "name": "#%%\n",
     "is_executing": true
    }
   },
   "outputs": [],
   "source": [
    "enroll = %sql select COMMUNITY_AREA_NAME , avg(COLLEGE_ENROLLMENT) as AVG_ENROLLMENT from CHICAGO_PUBLIC_SCHOOLS \\\n",
    "group by COMMUNITY_AREA_NAME order by AVG_ENROLLMENT desc limit 5;"
   ]
  },
  {
   "cell_type": "code",
   "execution_count": 32,
   "outputs": [
    {
     "data": {
      "text/plain": "  community_area_name  avg_enrollment\n0      ARCHER HEIGHTS            2411\n1           MONTCLARE            1317\n2         WEST ELSDON            1233\n3       BRIGHTON PARK            1205\n4      BELMONT CRAGIN            1198",
      "text/html": "<div>\n<style scoped>\n    .dataframe tbody tr th:only-of-type {\n        vertical-align: middle;\n    }\n\n    .dataframe tbody tr th {\n        vertical-align: top;\n    }\n\n    .dataframe thead th {\n        text-align: right;\n    }\n</style>\n<table border=\"1\" class=\"dataframe\">\n  <thead>\n    <tr style=\"text-align: right;\">\n      <th></th>\n      <th>community_area_name</th>\n      <th>avg_enrollment</th>\n    </tr>\n  </thead>\n  <tbody>\n    <tr>\n      <th>0</th>\n      <td>ARCHER HEIGHTS</td>\n      <td>2411</td>\n    </tr>\n    <tr>\n      <th>1</th>\n      <td>MONTCLARE</td>\n      <td>1317</td>\n    </tr>\n    <tr>\n      <th>2</th>\n      <td>WEST ELSDON</td>\n      <td>1233</td>\n    </tr>\n    <tr>\n      <th>3</th>\n      <td>BRIGHTON PARK</td>\n      <td>1205</td>\n    </tr>\n    <tr>\n      <th>4</th>\n      <td>BELMONT CRAGIN</td>\n      <td>1198</td>\n    </tr>\n  </tbody>\n</table>\n</div>"
     },
     "execution_count": 32,
     "metadata": {},
     "output_type": "execute_result"
    }
   ],
   "source": [
    "df_8 = enroll.DataFrame()\n",
    "df_8"
   ],
   "metadata": {
    "collapsed": false,
    "pycharm": {
     "name": "#%%\n"
    }
   }
  },
  {
   "cell_type": "markdown",
   "metadata": {
    "pycharm": {
     "name": "#%% md\n"
    }
   },
   "source": [
    "### Problem 9\n",
    "\n",
    "##### Use a sub-query to determine which Community Area has the least value for school Safety Score?\n"
   ]
  },
  {
   "cell_type": "code",
   "execution_count": null,
   "metadata": {
    "pycharm": {
     "name": "#%%\n",
     "is_executing": true
    }
   },
   "outputs": [],
   "source": [
    "safety = %sql select COMMUNITY_AREA_NAME from CHICAGO_PUBLIC_SCHOOLS \\\n",
    "where SAFETY_SCORE = (select min(SAFETY_SCORE) from CHICAGO_PUBLIC_SCHOOLS);"
   ]
  },
  {
   "cell_type": "code",
   "execution_count": 45,
   "outputs": [
    {
     "data": {
      "text/plain": "   community_area_name\n0              KENWOOD\n1              CHATHAM\n2          MORGAN PARK\n3             CLEARING\n4       SOUTH LAWNDALE\n5         NORWOOD PARK\n6         NORTH CENTER\n7          IRVING PARK\n8       BELMONT CRAGIN\n9              KENWOOD\n10       MCKINLEY PARK\n11           GAGE PARK\n12      NEAR WEST SIDE\n13      BELMONT CRAGIN\n14         EDISON PARK\n15              AUSTIN\n16      BELMONT CRAGIN\n17         SOUTH SHORE\n18             OAKLAND\n19            WOODLAWN\n20        WEST PULLMAN\n21             DOUGLAS\n22            ROSELAND\n23      AUBURN GRESHAM\n24      SOUTH LAWNDALE\n25         ROGERS PARK\n26       HUMBOLDT PARK\n27      NORTH LAWNDALE\n28      SOUTH LAWNDALE\n29        LINCOLN PARK\n30     CALUMET HEIGHTS\n31              AUSTIN\n32       MCKINLEY PARK\n33         ROGERS PARK\n34       HUMBOLDT PARK\n35       HUMBOLDT PARK\n36         SOUTH SHORE\n37     LOWER WEST SIDE\n38        WEST PULLMAN\n39             HERMOSA\n40     NEAR NORTH SIDE\n41           GAGE PARK\n42         SOUTH SHORE\n43      WEST ENGLEWOOD\n44      NEAR WEST SIDE\n45        WEST PULLMAN\n46       MCKINLEY PARK\n47              UPTOWN\n48           GAGE PARK\n49             DOUGLAS\n50     NEAR NORTH SIDE\n51         ALBANY PARK\n52             DOUGLAS",
      "text/html": "<div>\n<style scoped>\n    .dataframe tbody tr th:only-of-type {\n        vertical-align: middle;\n    }\n\n    .dataframe tbody tr th {\n        vertical-align: top;\n    }\n\n    .dataframe thead th {\n        text-align: right;\n    }\n</style>\n<table border=\"1\" class=\"dataframe\">\n  <thead>\n    <tr style=\"text-align: right;\">\n      <th></th>\n      <th>community_area_name</th>\n    </tr>\n  </thead>\n  <tbody>\n    <tr>\n      <th>0</th>\n      <td>KENWOOD</td>\n    </tr>\n    <tr>\n      <th>1</th>\n      <td>CHATHAM</td>\n    </tr>\n    <tr>\n      <th>2</th>\n      <td>MORGAN PARK</td>\n    </tr>\n    <tr>\n      <th>3</th>\n      <td>CLEARING</td>\n    </tr>\n    <tr>\n      <th>4</th>\n      <td>SOUTH LAWNDALE</td>\n    </tr>\n    <tr>\n      <th>5</th>\n      <td>NORWOOD PARK</td>\n    </tr>\n    <tr>\n      <th>6</th>\n      <td>NORTH CENTER</td>\n    </tr>\n    <tr>\n      <th>7</th>\n      <td>IRVING PARK</td>\n    </tr>\n    <tr>\n      <th>8</th>\n      <td>BELMONT CRAGIN</td>\n    </tr>\n    <tr>\n      <th>9</th>\n      <td>KENWOOD</td>\n    </tr>\n    <tr>\n      <th>10</th>\n      <td>MCKINLEY PARK</td>\n    </tr>\n    <tr>\n      <th>11</th>\n      <td>GAGE PARK</td>\n    </tr>\n    <tr>\n      <th>12</th>\n      <td>NEAR WEST SIDE</td>\n    </tr>\n    <tr>\n      <th>13</th>\n      <td>BELMONT CRAGIN</td>\n    </tr>\n    <tr>\n      <th>14</th>\n      <td>EDISON PARK</td>\n    </tr>\n    <tr>\n      <th>15</th>\n      <td>AUSTIN</td>\n    </tr>\n    <tr>\n      <th>16</th>\n      <td>BELMONT CRAGIN</td>\n    </tr>\n    <tr>\n      <th>17</th>\n      <td>SOUTH SHORE</td>\n    </tr>\n    <tr>\n      <th>18</th>\n      <td>OAKLAND</td>\n    </tr>\n    <tr>\n      <th>19</th>\n      <td>WOODLAWN</td>\n    </tr>\n    <tr>\n      <th>20</th>\n      <td>WEST PULLMAN</td>\n    </tr>\n    <tr>\n      <th>21</th>\n      <td>DOUGLAS</td>\n    </tr>\n    <tr>\n      <th>22</th>\n      <td>ROSELAND</td>\n    </tr>\n    <tr>\n      <th>23</th>\n      <td>AUBURN GRESHAM</td>\n    </tr>\n    <tr>\n      <th>24</th>\n      <td>SOUTH LAWNDALE</td>\n    </tr>\n    <tr>\n      <th>25</th>\n      <td>ROGERS PARK</td>\n    </tr>\n    <tr>\n      <th>26</th>\n      <td>HUMBOLDT PARK</td>\n    </tr>\n    <tr>\n      <th>27</th>\n      <td>NORTH LAWNDALE</td>\n    </tr>\n    <tr>\n      <th>28</th>\n      <td>SOUTH LAWNDALE</td>\n    </tr>\n    <tr>\n      <th>29</th>\n      <td>LINCOLN PARK</td>\n    </tr>\n    <tr>\n      <th>30</th>\n      <td>CALUMET HEIGHTS</td>\n    </tr>\n    <tr>\n      <th>31</th>\n      <td>AUSTIN</td>\n    </tr>\n    <tr>\n      <th>32</th>\n      <td>MCKINLEY PARK</td>\n    </tr>\n    <tr>\n      <th>33</th>\n      <td>ROGERS PARK</td>\n    </tr>\n    <tr>\n      <th>34</th>\n      <td>HUMBOLDT PARK</td>\n    </tr>\n    <tr>\n      <th>35</th>\n      <td>HUMBOLDT PARK</td>\n    </tr>\n    <tr>\n      <th>36</th>\n      <td>SOUTH SHORE</td>\n    </tr>\n    <tr>\n      <th>37</th>\n      <td>LOWER WEST SIDE</td>\n    </tr>\n    <tr>\n      <th>38</th>\n      <td>WEST PULLMAN</td>\n    </tr>\n    <tr>\n      <th>39</th>\n      <td>HERMOSA</td>\n    </tr>\n    <tr>\n      <th>40</th>\n      <td>NEAR NORTH SIDE</td>\n    </tr>\n    <tr>\n      <th>41</th>\n      <td>GAGE PARK</td>\n    </tr>\n    <tr>\n      <th>42</th>\n      <td>SOUTH SHORE</td>\n    </tr>\n    <tr>\n      <th>43</th>\n      <td>WEST ENGLEWOOD</td>\n    </tr>\n    <tr>\n      <th>44</th>\n      <td>NEAR WEST SIDE</td>\n    </tr>\n    <tr>\n      <th>45</th>\n      <td>WEST PULLMAN</td>\n    </tr>\n    <tr>\n      <th>46</th>\n      <td>MCKINLEY PARK</td>\n    </tr>\n    <tr>\n      <th>47</th>\n      <td>UPTOWN</td>\n    </tr>\n    <tr>\n      <th>48</th>\n      <td>GAGE PARK</td>\n    </tr>\n    <tr>\n      <th>49</th>\n      <td>DOUGLAS</td>\n    </tr>\n    <tr>\n      <th>50</th>\n      <td>NEAR NORTH SIDE</td>\n    </tr>\n    <tr>\n      <th>51</th>\n      <td>ALBANY PARK</td>\n    </tr>\n    <tr>\n      <th>52</th>\n      <td>DOUGLAS</td>\n    </tr>\n  </tbody>\n</table>\n</div>"
     },
     "execution_count": 45,
     "metadata": {},
     "output_type": "execute_result"
    }
   ],
   "source": [
    "df_9 = safety.DataFrame()\n",
    "df_9"
   ],
   "metadata": {
    "collapsed": false,
    "pycharm": {
     "name": "#%%\n"
    }
   }
  },
  {
   "cell_type": "markdown",
   "metadata": {
    "pycharm": {
     "name": "#%% md\n"
    }
   },
   "source": [
    "### Problem 10\n",
    "\n",
    "##### \\[Without using an explicit JOIN operator] Find the Per Capita Income of the Community Area which has a school Safety Score of 1.\n"
   ]
  },
  {
   "cell_type": "code",
   "execution_count": null,
   "metadata": {
    "pycharm": {
     "name": "#%%\n",
     "is_executing": true
    }
   },
   "outputs": [],
   "source": [
    "per_capita = %sql select A.PER_CAPITA_INCOME from CENSUS_DATA A, CHICAGO_PUBLIC_SCHOOLS B where A.COMMUNITY_AREA_NUMBER = B.COMMUNITY_AREA_NUMBER and B.SAFETY_SCORE = 1"
   ]
  },
  {
   "cell_type": "code",
   "execution_count": 47,
   "outputs": [
    {
     "data": {
      "text/plain": "   per_capita_income\n0              13785",
      "text/html": "<div>\n<style scoped>\n    .dataframe tbody tr th:only-of-type {\n        vertical-align: middle;\n    }\n\n    .dataframe tbody tr th {\n        vertical-align: top;\n    }\n\n    .dataframe thead th {\n        text-align: right;\n    }\n</style>\n<table border=\"1\" class=\"dataframe\">\n  <thead>\n    <tr style=\"text-align: right;\">\n      <th></th>\n      <th>per_capita_income</th>\n    </tr>\n  </thead>\n  <tbody>\n    <tr>\n      <th>0</th>\n      <td>13785</td>\n    </tr>\n  </tbody>\n</table>\n</div>"
     },
     "execution_count": 47,
     "metadata": {},
     "output_type": "execute_result"
    }
   ],
   "source": [
    "df_10 = per_capita.DataFrame()\n",
    "df_10"
   ],
   "metadata": {
    "collapsed": false,
    "pycharm": {
     "name": "#%%\n"
    }
   }
  }
 ],
 "metadata": {
  "kernelspec": {
   "display_name": "Python 3 (ipykernel)",
   "language": "python",
   "name": "python3"
  },
  "language_info": {
   "codemirror_mode": {
    "name": "ipython",
    "version": 3
   },
   "file_extension": ".py",
   "mimetype": "text/x-python",
   "name": "python",
   "nbconvert_exporter": "python",
   "pygments_lexer": "ipython3",
   "version": "3.9.7"
  },
  "widgets": {
   "state": {},
   "version": "1.1.2"
  }
 },
 "nbformat": 4,
 "nbformat_minor": 4
}